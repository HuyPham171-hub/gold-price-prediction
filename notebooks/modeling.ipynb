{
 "cells": [
  {
   "cell_type": "markdown",
   "metadata": {},
   "source": [
    "# Gold Price Prediction - Modeling Phase"
   ]
  },
  {
   "cell_type": "code",
   "execution_count": 2,
   "metadata": {},
   "outputs": [],
   "source": [
    "import numpy as np\n",
    "import pandas as pd\n",
    "import matplotlib.pyplot as plt\n",
    "import seaborn as sns\n",
    "from sklearn.model_selection import train_test_split\n",
    "from sklearn.linear_model import LinearRegression\n",
    "import statsmodels.api as sm"
   ]
  },
  {
   "cell_type": "code",
   "execution_count": 13,
   "metadata": {},
   "outputs": [
    {
     "data": {
      "text/html": [
       "<div>\n",
       "<style scoped>\n",
       "    .dataframe tbody tr th:only-of-type {\n",
       "        vertical-align: middle;\n",
       "    }\n",
       "\n",
       "    .dataframe tbody tr th {\n",
       "        vertical-align: top;\n",
       "    }\n",
       "\n",
       "    .dataframe thead th {\n",
       "        text-align: right;\n",
       "    }\n",
       "</style>\n",
       "<table border=\"1\" class=\"dataframe\">\n",
       "  <thead>\n",
       "    <tr style=\"text-align: right;\">\n",
       "      <th></th>\n",
       "      <th>Gold_Spot</th>\n",
       "      <th>Silver_Fututes</th>\n",
       "      <th>S&amp;P_500</th>\n",
       "      <th>USD_Index</th>\n",
       "      <th>CPI</th>\n",
       "      <th>Treasury_Yield_10Y</th>\n",
       "      <th>Real_Interest_Rate</th>\n",
       "      <th>GPR</th>\n",
       "      <th>Unemployment</th>\n",
       "    </tr>\n",
       "    <tr>\n",
       "      <th>Date</th>\n",
       "      <th></th>\n",
       "      <th></th>\n",
       "      <th></th>\n",
       "      <th></th>\n",
       "      <th></th>\n",
       "      <th></th>\n",
       "      <th></th>\n",
       "      <th></th>\n",
       "      <th></th>\n",
       "    </tr>\n",
       "  </thead>\n",
       "  <tbody>\n",
       "    <tr>\n",
       "      <th>2006-01-31</th>\n",
       "      <td>549.86</td>\n",
       "      <td>9.850</td>\n",
       "      <td>1280.079956</td>\n",
       "      <td>99.4311</td>\n",
       "      <td>199.3</td>\n",
       "      <td>4.42</td>\n",
       "      <td>2.00</td>\n",
       "      <td>94.510017</td>\n",
       "      <td>4.7</td>\n",
       "    </tr>\n",
       "    <tr>\n",
       "      <th>2006-02-28</th>\n",
       "      <td>555.00</td>\n",
       "      <td>9.720</td>\n",
       "      <td>1280.660034</td>\n",
       "      <td>99.7695</td>\n",
       "      <td>199.4</td>\n",
       "      <td>4.57</td>\n",
       "      <td>2.02</td>\n",
       "      <td>95.858192</td>\n",
       "      <td>4.8</td>\n",
       "    </tr>\n",
       "    <tr>\n",
       "      <th>2006-03-31</th>\n",
       "      <td>557.09</td>\n",
       "      <td>11.480</td>\n",
       "      <td>1294.869995</td>\n",
       "      <td>100.5600</td>\n",
       "      <td>199.7</td>\n",
       "      <td>4.72</td>\n",
       "      <td>2.35</td>\n",
       "      <td>92.797623</td>\n",
       "      <td>4.7</td>\n",
       "    </tr>\n",
       "    <tr>\n",
       "      <th>2006-04-28</th>\n",
       "      <td>610.65</td>\n",
       "      <td>13.510</td>\n",
       "      <td>1310.609985</td>\n",
       "      <td>98.1412</td>\n",
       "      <td>200.7</td>\n",
       "      <td>4.99</td>\n",
       "      <td>2.39</td>\n",
       "      <td>89.015800</td>\n",
       "      <td>4.7</td>\n",
       "    </tr>\n",
       "    <tr>\n",
       "      <th>2006-05-31</th>\n",
       "      <td>675.39</td>\n",
       "      <td>12.398</td>\n",
       "      <td>1270.089966</td>\n",
       "      <td>97.7705</td>\n",
       "      <td>201.3</td>\n",
       "      <td>5.11</td>\n",
       "      <td>2.48</td>\n",
       "      <td>85.208778</td>\n",
       "      <td>4.6</td>\n",
       "    </tr>\n",
       "  </tbody>\n",
       "</table>\n",
       "</div>"
      ],
      "text/plain": [
       "            Gold_Spot  Silver_Fututes      S&P_500  USD_Index    CPI  \\\n",
       "Date                                                                   \n",
       "2006-01-31     549.86           9.850  1280.079956    99.4311  199.3   \n",
       "2006-02-28     555.00           9.720  1280.660034    99.7695  199.4   \n",
       "2006-03-31     557.09          11.480  1294.869995   100.5600  199.7   \n",
       "2006-04-28     610.65          13.510  1310.609985    98.1412  200.7   \n",
       "2006-05-31     675.39          12.398  1270.089966    97.7705  201.3   \n",
       "\n",
       "            Treasury_Yield_10Y  Real_Interest_Rate        GPR  Unemployment  \n",
       "Date                                                                         \n",
       "2006-01-31                4.42                2.00  94.510017           4.7  \n",
       "2006-02-28                4.57                2.02  95.858192           4.8  \n",
       "2006-03-31                4.72                2.35  92.797623           4.7  \n",
       "2006-04-28                4.99                2.39  89.015800           4.7  \n",
       "2006-05-31                5.11                2.48  85.208778           4.6  "
      ]
     },
     "execution_count": 13,
     "metadata": {},
     "output_type": "execute_result"
    }
   ],
   "source": [
    "# Load Data\n",
    "df = pd.read_csv(\"../data/filtered_data.csv\", index_col=\"Date\", parse_dates=True)\n",
    "df = df.ffill()\n",
    "df.head()"
   ]
  },
  {
   "cell_type": "code",
   "execution_count": 16,
   "metadata": {},
   "outputs": [
    {
     "name": "stdout",
     "output_type": "stream",
     "text": [
      "Coefficient:  [24.00260418]\n",
      "Intercept:  -1113.9406008447324\n"
     ]
    }
   ],
   "source": [
    "X = df[[\"USD_Index\"]]\n",
    "y = df[\"Gold_Spot\"]\n",
    "\n",
    "# Train-test split\n",
    "X_train, X_test, y_train, y_test = train_test_split(X, y, test_size=0.2, random_state=42)\n",
    "\n",
    "# Fit model\n",
    "lin_reg = LinearRegression()\n",
    "lin_reg.fit(X_train, y_train)\n",
    "\n",
    "# Prediction\n",
    "y_pred = lin_reg.predict(X_test)\n",
    "\n",
    "print(\"Coefficient: \", lin_reg.coef_)\n",
    "print(\"Intercept: \", lin_reg.intercept_)"
   ]
  }
 ],
 "metadata": {
  "kernelspec": {
   "display_name": "Python (gpp-env)",
   "language": "python",
   "name": "gpp-env"
  },
  "language_info": {
   "codemirror_mode": {
    "name": "ipython",
    "version": 3
   },
   "file_extension": ".py",
   "mimetype": "text/x-python",
   "name": "python",
   "nbconvert_exporter": "python",
   "pygments_lexer": "ipython3",
   "version": "3.11.0"
  }
 },
 "nbformat": 4,
 "nbformat_minor": 4
}
