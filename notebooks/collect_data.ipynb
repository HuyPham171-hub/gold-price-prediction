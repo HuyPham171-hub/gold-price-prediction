{
 "cells": [
  {
   "cell_type": "markdown",
   "id": "5345b343",
   "metadata": {},
   "source": [
    "## 1. Collect more data, consider golds, silver or other financial indicators."
   ]
  },
  {
   "cell_type": "markdown",
   "id": "c41ea374",
   "metadata": {},
   "source": [
    "## 1.1 Research and list relevant financial indicators\n",
    "#### Precious Metals Prices\n",
    "- Gold Futures (GC=F): Target variable for prediction.\n",
    "- Silver Futures (SI=F): Strong correlation with gold.\n",
    "- Platinum (PL=F): Related precious metal; adds comparative insight.\n",
    "#### Economic Indicators    \n",
    "- Inflation Rate (CPI): High inflation increases gold demand.\n",
    "- Interest Rate (Fed Funds Rate): Higher rates reduce gold appeal.\n",
    "- 10-Year Treasury Yield & Real Yield: Used to calculate real return on investments.\n",
    "- USD Index (UUP): Stronger USD often weakens gold prices.\n",
    "- Money Supply (M2): Increased liquidity may drive gold prices.\n",
    "- Unemployment Rate: Reflects economic health and investor sentiment.\n",
    "#### Investment Demand\n",
    "- GLD ETF Holdings: Investor gold exposure via ETFs.\n",
    "- Global Gold ETF Holdings: Broader market gold investment trends.\n",
    "- Gold Futures Positioning (COT Report): Speculative demand indicator.\n",
    "#### Cultural and Physical Demand\n",
    "- Jewelry Demand (India/China): Major consumer markets.\n",
    "- Seasonality: Demand spikes during festive/wedding seasons.\n",
    "#### Financial Markets\n",
    "- S&P 500, NASDAQ: Inverse correlation with gold in risk-on markets.\n",
    "- Crude Oil Prices (CL=F): Oil shocks often raise inflation fears.\n",
    "- VIX (Volatility Index): Higher volatility increases gold hedging.\n",
    "- Bitcoin (BTC-USD): Competing store-of-value asset.\n",
    "#### Geopolitical and Global Risk\n",
    "- Geopolitical Risk Index (GPR): Captures global tensions affecting safe-haven demand."
   ]
  },
  {
   "cell_type": "markdown",
   "id": "a2121489",
   "metadata": {},
   "source": [
    "## Market data"
   ]
  },
  {
   "cell_type": "code",
   "execution_count": 1,
   "id": "160796a0",
   "metadata": {},
   "outputs": [
    {
     "name": "stderr",
     "output_type": "stream",
     "text": [
      "<>:25: SyntaxWarning: invalid escape sequence '\\m'\n",
      "<>:25: SyntaxWarning: invalid escape sequence '\\m'\n",
      "C:\\Users\\khanh\\AppData\\Local\\Temp\\ipykernel_9880\\4242753484.py:25: SyntaxWarning: invalid escape sequence '\\m'\n",
      "  close_data.to_csv(\"data\\market_data.csv\")\n"
     ]
    },
    {
     "name": "stdout",
     "output_type": "stream",
     "text": [
      "YF.download() has changed argument auto_adjust default to True\n"
     ]
    },
    {
     "name": "stderr",
     "output_type": "stream",
     "text": [
      "[*********************100%***********************]  6 of 6 completed"
     ]
    },
    {
     "name": "stdout",
     "output_type": "stream",
     "text": [
      "Ticker      Crude_Oil  Gold_Futures  Gold_ETF  Silver_Fututes      S&P_500  \\\n",
      "Date                                                                         \n",
      "2000-01-03        NaN           NaN       NaN             NaN  1455.219971   \n",
      "2000-01-04        NaN           NaN       NaN             NaN  1399.420044   \n",
      "2000-01-05        NaN           NaN       NaN             NaN  1402.109985   \n",
      "2000-01-06        NaN           NaN       NaN             NaN  1403.449951   \n",
      "2000-01-07        NaN           NaN       NaN             NaN  1441.469971   \n",
      "\n",
      "Ticker           NASDAQ  \n",
      "Date                     \n",
      "2000-01-03  4131.149902  \n",
      "2000-01-04  3901.689941  \n",
      "2000-01-05  3877.540039  \n",
      "2000-01-06  3727.129883  \n",
      "2000-01-07  3882.620117  \n"
     ]
    },
    {
     "name": "stderr",
     "output_type": "stream",
     "text": [
      "\n",
      "C:\\Users\\khanh\\AppData\\Local\\Temp\\ipykernel_9880\\4242753484.py:22: SettingWithCopyWarning: \n",
      "A value is trying to be set on a copy of a slice from a DataFrame\n",
      "\n",
      "See the caveats in the documentation: https://pandas.pydata.org/pandas-docs/stable/user_guide/indexing.html#returning-a-view-versus-a-copy\n",
      "  close_data.rename(columns=tickers, inplace=True)\n"
     ]
    }
   ],
   "source": [
    "import yfinance as yf\n",
    "\n",
    "tickers = {\n",
    "    'GC=F': 'Gold_Futures',\n",
    "    'SI=F': 'Silver_Fututes',\n",
    "    'CL=F': 'Crude_Oil',\n",
    "    # 'UUP': 'USD_Index',\n",
    "    '^GSPC': 'S&P_500',\n",
    "    '^IXIC': 'NASDAQ',\n",
    "    'GLD': 'Gold_ETF'\n",
    "    # 'PL=F': 'Platinum'\n",
    "    # 'BTC-USD': 'Bitcoin'\n",
    "}\n",
    "\n",
    "# Download 'Close' price data\n",
    "raw_data = yf.download(list(tickers.keys()), start='2000-01-01', end='2024-12-31')\n",
    "\n",
    "# Extract Close prices\n",
    "close_data = raw_data['Close']\n",
    "\n",
    "# Rename columns to descriptive names\n",
    "close_data.rename(columns=tickers, inplace=True)\n",
    "\n",
    "# Save to CSV\n",
    "close_data.to_csv(\"data\\market_data.csv\")\n",
    "\n",
    "# Preview\n",
    "print(close_data.head())\n"
   ]
  },
  {
   "cell_type": "markdown",
   "id": "4cb5bbc6",
   "metadata": {},
   "source": [
    "## Macro data\n"
   ]
  },
  {
   "cell_type": "code",
   "execution_count": 4,
   "id": "f08da46d",
   "metadata": {},
   "outputs": [],
   "source": [
    "from fredapi import Fred\n",
    "import pandas as pd\n",
    "\n",
    "fred = Fred(api_key='c2c6e01a4f067abfc92b53024fb3e4c2')\n",
    "start_date = '2000-01-01'\n",
    "end_date = '2024-12-31'\n",
    "\n",
    "# Download each macroeconomic indicator as a DataFrame\n",
    "indicators = {\n",
    "    'CPI': 'CPIAUCSL',\n",
    "    'Fed_Funds_Rate': 'FEDFUNDS',\n",
    "    'M2_Supply': 'M2SL',\n",
    "    'Unemployment': 'UNRATE',\n",
    "    'Treasury_Yield_10Y': 'GS10',\n",
    "    'Real_Interest_Rate': 'DFII10',\n",
    "    'USD_Index': 'DTWEXBGS'\n",
    "}\n",
    "\n",
    "macro_monthly = pd.DataFrame()\n",
    "real_interest_rate = pd.DataFrame()\n",
    "usd_index = pd.DataFrame()\n",
    "\n",
    "for name, code in indicators.items():\n",
    "    series = fred.get_series(code, observation_start=start_date, observation_end=end_date)\n",
    "    series = series.to_frame(name=name)\n",
    "    series.index.name = 'Date'\n",
    "    if name == 'USD_Index':\n",
    "        usd_index = series\n",
    "    elif name == 'Real_Interest_Rate':\n",
    "        real_interest_rate = series\n",
    "    else:\n",
    "        if macro_monthly.empty:\n",
    "            macro_monthly = series\n",
    "        else:\n",
    "            macro_monthly = macro_monthly.join(series, how='outer')\n",
    "\n",
    "macro_monthly.to_csv(\"data/macro_monthly.csv\")\n",
    "real_interest_rate.to_csv(\"data/real_interest_rate.csv\")\n",
    "usd_index.to_csv(\"data/usd_index.csv\")\n"
   ]
  },
  {
   "cell_type": "markdown",
   "id": "da4d6052",
   "metadata": {},
   "source": [
    "## VIX data\n"
   ]
  },
  {
   "cell_type": "code",
   "execution_count": null,
   "id": "fd6c9e85",
   "metadata": {},
   "outputs": [
    {
     "name": "stderr",
     "output_type": "stream",
     "text": [
      "[*********************100%***********************]  1 of 1 completed"
     ]
    },
    {
     "name": "stdout",
     "output_type": "stream",
     "text": [
      "Price           Close       High        Low       Open Volume\n",
      "Ticker           ^VIX       ^VIX       ^VIX       ^VIX   ^VIX\n",
      "Date                                                         \n",
      "2000-01-03  24.209999  26.150000  23.980000  24.360001      0\n",
      "2000-01-04  27.010000  27.180000  24.799999  24.940001      0\n",
      "2000-01-05  26.410000  29.000000  25.850000  27.980000      0\n",
      "2000-01-06  25.730000  26.709999  24.700001  26.680000      0\n",
      "2000-01-07  21.719999  25.170000  21.719999  25.139999      0\n"
     ]
    },
    {
     "name": "stderr",
     "output_type": "stream",
     "text": [
      "\n"
     ]
    }
   ],
   "source": [
    "import yfinance as yf \n",
    "\n",
    "vix = yf.download(\"^VIX\", start=\"2000-01-01\")\n",
    "close_vix = vix[\"Close\"]\n",
    "\n",
    "close_vix.to_csv(\"data/vix_data.csv\")\n",
    "\n",
    "print(vix.head())"
   ]
  }
 ],
 "metadata": {
  "kernelspec": {
   "display_name": ".venv",
   "language": "python",
   "name": "python3"
  },
  "language_info": {
   "codemirror_mode": {
    "name": "ipython",
    "version": 3
   },
   "file_extension": ".py",
   "mimetype": "text/x-python",
   "name": "python",
   "nbconvert_exporter": "python",
   "pygments_lexer": "ipython3",
   "version": "3.13.2"
  }
 },
 "nbformat": 4,
 "nbformat_minor": 5
}
